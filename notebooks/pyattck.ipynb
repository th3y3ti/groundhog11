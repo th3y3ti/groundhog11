{
 "cells": [
  {
   "cell_type": "markdown",
   "metadata": {},
   "source": [
    "# Working with ATT&CK\n",
    "\n",
    "\n",
    "# Background\n",
    "\n",
    "pyattck can be used to query the ATT&CK TAXII server and interact with ATT&CK programatically. In this workbook, we show some basic usage of it, how to generate a coverage spreadsheet, and then how to generate a layer file for navigator.\n",
    "\n",
    "* ATT&CK on Github\n",
    "    * https://github.com/mitre/cti\n",
    "    * https://raw.githubusercontent.com/mitre/cti/master/enterprise-attack/enterprise-attack.json \n",
    "\n",
    "* pyattck\n",
    "    * https://pyattck.readthedocs.io/en/latest/\n",
    "    * https://swimlane.com/blog/swimlane-pyattack-works-with-mitre-att-ck-framework/"
   ]
  },
  {
   "cell_type": "markdown",
   "metadata": {},
   "source": [
    "<hr>\n",
    "\n",
    "## Part 1 - General usage"
   ]
  },
  {
   "cell_type": "code",
   "execution_count": null,
   "metadata": {},
   "outputs": [],
   "source": [
    "from pyattck import Attck\n",
    "\n",
    "attack = Attck()"
   ]
  },
  {
   "cell_type": "markdown",
   "metadata": {},
   "source": [
    "If you're connecting through a web proxy, you should set the `HTTP_PROXY` and `HTTPS_PROXY` environment variables."
   ]
  },
  {
   "cell_type": "markdown",
   "metadata": {},
   "source": [
    "## Exploring Tactics"
   ]
  },
  {
   "cell_type": "code",
   "execution_count": null,
   "metadata": {},
   "outputs": [],
   "source": [
    "for tactic in attack.tactics:\n",
    "    print(tactic.name)"
   ]
  },
  {
   "cell_type": "code",
   "execution_count": null,
   "metadata": {},
   "outputs": [],
   "source": [
    "example_tactic = attack.tactics[0]"
   ]
  },
  {
   "cell_type": "code",
   "execution_count": null,
   "metadata": {},
   "outputs": [],
   "source": [
    "example_tactic.name"
   ]
  },
  {
   "cell_type": "code",
   "execution_count": null,
   "metadata": {},
   "outputs": [],
   "source": [
    "print(example_tactic.description)"
   ]
  },
  {
   "cell_type": "code",
   "execution_count": null,
   "metadata": {},
   "outputs": [],
   "source": [
    "for technique in example_tactic.techniques:\n",
    "    print(technique.id, technique.name)"
   ]
  },
  {
   "cell_type": "markdown",
   "metadata": {},
   "source": [
    "## Exploring Techniques"
   ]
  },
  {
   "cell_type": "code",
   "execution_count": null,
   "metadata": {},
   "outputs": [],
   "source": [
    "example_technique = attack.techniques[1]"
   ]
  },
  {
   "cell_type": "code",
   "execution_count": null,
   "metadata": {},
   "outputs": [],
   "source": [
    "example_technique.name"
   ]
  },
  {
   "cell_type": "code",
   "execution_count": null,
   "metadata": {},
   "outputs": [],
   "source": [
    "example_technique.id"
   ]
  },
  {
   "cell_type": "code",
   "execution_count": null,
   "metadata": {},
   "outputs": [],
   "source": [
    "example_technique.description"
   ]
  },
  {
   "cell_type": "code",
   "execution_count": null,
   "metadata": {},
   "outputs": [],
   "source": [
    "example_technique.wiki"
   ]
  },
  {
   "cell_type": "code",
   "execution_count": null,
   "metadata": {},
   "outputs": [],
   "source": [
    "for actor in example_technique.actors:\n",
    "    print(actor.name)"
   ]
  },
  {
   "cell_type": "code",
   "execution_count": null,
   "metadata": {},
   "outputs": [],
   "source": [
    "for mitigation in example_technique.mitigations:\n",
    "    print(mitigation.name)"
   ]
  },
  {
   "cell_type": "markdown",
   "metadata": {},
   "source": [
    "## Exploring Actors"
   ]
  },
  {
   "cell_type": "code",
   "execution_count": null,
   "metadata": {},
   "outputs": [],
   "source": [
    "for actor in attack.actors:\n",
    "    print(actor.name)"
   ]
  },
  {
   "cell_type": "code",
   "execution_count": null,
   "metadata": {},
   "outputs": [],
   "source": [
    "for actor in attack.actors:\n",
    "    print(actor.name)\n",
    "    for technique in actor.techniques:\n",
    "        print('-', technique.id, technique.name)"
   ]
  },
  {
   "cell_type": "code",
   "execution_count": null,
   "metadata": {},
   "outputs": [],
   "source": [
    "for actor in attack.actors:\n",
    "    if actor.name == 'APT28':\n",
    "        print('Techniques\\n====')\n",
    "        for technique in actor.techniques:\n",
    "            print('-', technique.id, technique.name)\n",
    "        print('Tools\\n=====')\n",
    "        for tool in actor.tools:\n",
    "            print(tool.name, '-', tool.description.replace('\\n', ' '))\n",
    "        print('\\nMalware\\n=====')\n",
    "        for malware in actor.malwares:\n",
    "            print(malware.name, '-', malware.description)"
   ]
  },
  {
   "cell_type": "code",
   "execution_count": null,
   "metadata": {},
   "outputs": [],
   "source": [
    "from collections import Counter\n",
    "\n",
    "mitigations_counter = Counter([\n",
    "    mitigation.name\n",
    "    for technique in attack.techniques\n",
    "    for mitigation in technique.mitigations])"
   ]
  },
  {
   "cell_type": "code",
   "execution_count": null,
   "metadata": {},
   "outputs": [],
   "source": [
    "mitigations_counter.most_common()"
   ]
  },
  {
   "cell_type": "markdown",
   "metadata": {},
   "source": [
    "<hr>\n",
    "\n",
    "# Part 2 - Generate Coverage Spreadsheet"
   ]
  },
  {
   "cell_type": "markdown",
   "metadata": {},
   "source": [
    "## Group Techniques by Data Source"
   ]
  },
  {
   "cell_type": "code",
   "execution_count": null,
   "metadata": {},
   "outputs": [],
   "source": [
    "from collections import defaultdict\n",
    "\n",
    "def group_techniques_by_data_source(attack, actor_name=None):\n",
    "    data_sources = defaultdict(list)\n",
    "    for technique in attack.techniques:\n",
    "        if actor_name:\n",
    "            related_actors = [actor.name for actor in technique.actors]\n",
    "            if actor_name not in related_actors:\n",
    "                continue\n",
    "        if technique.data_source:\n",
    "            for data_source in technique.data_source:\n",
    "                data_sources[data_source].append(technique.id)\n",
    "    return data_sources"
   ]
  },
  {
   "cell_type": "code",
   "execution_count": null,
   "metadata": {},
   "outputs": [],
   "source": [
    "data_source_map = group_techniques_by_data_source(attack)"
   ]
  },
  {
   "cell_type": "code",
   "execution_count": null,
   "metadata": {},
   "outputs": [],
   "source": [
    "data_source_map.keys()"
   ]
  },
  {
   "cell_type": "code",
   "execution_count": null,
   "metadata": {},
   "outputs": [],
   "source": [
    "data_source_map['Authentication logs']"
   ]
  },
  {
   "cell_type": "code",
   "execution_count": null,
   "metadata": {},
   "outputs": [],
   "source": [
    "apt1_data_source_map = group_techniques_by_data_source(attack, actor_name='APT1')\n",
    "apt1_data_source_map.keys()"
   ]
  },
  {
   "cell_type": "code",
   "execution_count": null,
   "metadata": {},
   "outputs": [],
   "source": [
    "apt1_data_source_map['Authentication logs']"
   ]
  },
  {
   "cell_type": "markdown",
   "metadata": {},
   "source": [
    "## Generate the spreadsheet"
   ]
  },
  {
   "cell_type": "code",
   "execution_count": null,
   "metadata": {},
   "outputs": [],
   "source": [
    "import pandas as pd\n",
    "\n",
    "def create_data_source_spreadsheet(data_source_map, fp='Data Source Coverage Spreadsheet.xlsx'):\n",
    "    (pd.DataFrame([\n",
    "        {'Data Source': data_source, 'Techniques': techniques}\n",
    "         for data_source, techniques in data_source_map.items()])\n",
    "     .assign(**{'Num of Techniques': lambda df: df.Techniques.str.len(),\n",
    "                'Data Source Available?': '',\n",
    "                'Comments': ''})\n",
    "     .drop(columns=['Techniques'])\n",
    "     .set_index('Data Source')\n",
    "     .sort_index()\n",
    "     .to_excel(fp))\n",
    "    \n",
    "    print(f'Wrote data source coverage spreadsheet to {fp}')"
   ]
  },
  {
   "cell_type": "code",
   "execution_count": null,
   "metadata": {},
   "outputs": [],
   "source": [
    "create_data_source_spreadsheet(data_source_map)"
   ]
  },
  {
   "cell_type": "code",
   "execution_count": null,
   "metadata": {},
   "outputs": [],
   "source": [
    "create_data_source_spreadsheet(apt1_data_source_map, fp='APT1 Data Source Coverage Spreadsheet.xlsx')"
   ]
  },
  {
   "cell_type": "markdown",
   "metadata": {},
   "source": [
    "<hr>\n",
    "\n",
    "# Part 3 - Generate Layer File\n",
    "\n",
    "> ref: https://github.com/mitre-attack/attack-navigator/blob/master/layers/LAYERFORMATv2_2.md"
   ]
  },
  {
   "cell_type": "code",
   "execution_count": null,
   "metadata": {},
   "outputs": [],
   "source": [
    "from pathlib import Path\n",
    "from collections import defaultdict\n",
    "import json\n",
    "\n",
    "\n",
    "class NavigatorLayer(object):\n",
    "    def __init__(self, version='2.2', name='Default Layer Name',\n",
    "                 description='Default Description', domain='mitre-enterprise',\n",
    "                 colors=['#ffffff', '#b3d9ff'], min_value=0, max_value=100,\n",
    "                 sorting=0, view_mode=0, hide_disabled=False, stages=['act'], metadata=None,\n",
    "                 platforms=['Windows', 'SaaS', 'Azure AD', 'Azure', 'GCP',\n",
    "                            'Office 365', 'AWS', 'macOS', 'Linux']):\n",
    "        self.content = {\n",
    "            'name': name,\n",
    "            'version': version,\n",
    "            'domain': domain,\n",
    "            'description': description,\n",
    "            'filters': {\n",
    "                'stages': stages,\n",
    "                'platforms': platforms\n",
    "            },\n",
    "            'gradient': {\n",
    "                'colors': colors,\n",
    "                'maxValue': max_value,\n",
    "                'minValue': min_value\n",
    "            },\n",
    "            'sorting': sorting,\n",
    "            'viewMode': view_mode,\n",
    "            'hideDisabled': hide_disabled,\n",
    "            'metadata': [],\n",
    "            'techniques': []}\n",
    "\n",
    "        if metadata:\n",
    "            self.content['metadata'].extend(metadata)\n",
    "\n",
    "    def to_json(self, fp):\n",
    "        data = json.dumps(self.content, indent=4)\n",
    "        Path(fp).write_text(data)"
   ]
  },
  {
   "cell_type": "code",
   "execution_count": null,
   "metadata": {},
   "outputs": [],
   "source": [
    "import pandas as pd\n",
    "\n",
    "\n",
    "def populate_layer_from_spreadsheet(attack, actor_name=None, \n",
    "                                    spreadsheet_fp='Data Source Coverage Spreadsheet.xlsx'):\n",
    "    layer_content = []\n",
    "    spreadsheet = pd.read_excel(spreadsheet_fp)\n",
    "    available_data_sources = spreadsheet[\n",
    "        spreadsheet['Data Source Available?'].str.lower() == 'yes']\n",
    "\n",
    "    covered_techniques = defaultdict(list)\n",
    "    for technique in attack.techniques:\n",
    "        \n",
    "        if actor_name:\n",
    "            related_actors = [actor.name for actor in technique.actors]\n",
    "            if actor_name not in related_actors:\n",
    "                layer_content.append({\n",
    "                    'techniqueID': technique.id,\n",
    "                    'enabled': False})\n",
    "                continue\n",
    "            \n",
    "        for data_source in available_data_sources['Data Source'].unique():\n",
    "            if technique.data_source and data_source in technique.data_source:\n",
    "                covered_techniques[technique.id].append(data_source)\n",
    "\n",
    "    for technique in covered_techniques:\n",
    "        layer_content.append({\n",
    "            'techniqueID': technique,\n",
    "            'score': len(covered_techniques[technique]),\n",
    "            'metadata': [{\n",
    "                'name': 'Data Sources',\n",
    "                'value': ', '.join(covered_techniques[technique])}]})\n",
    "\n",
    "    return layer_content"
   ]
  },
  {
   "cell_type": "code",
   "execution_count": null,
   "metadata": {},
   "outputs": [],
   "source": [
    "layer = NavigatorLayer(\n",
    "    name='Data Source Coverage Map',\n",
    "    description='Shows techniques where the organization has a relevant data source',\n",
    "    max_value=1)"
   ]
  },
  {
   "cell_type": "code",
   "execution_count": null,
   "metadata": {},
   "outputs": [],
   "source": [
    "layer.content['techniques'] = populate_layer_from_spreadsheet(\n",
    "    attack, spreadsheet_fp='Data Source Coverage Spreadsheet.xlsx')"
   ]
  },
  {
   "cell_type": "code",
   "execution_count": null,
   "metadata": {},
   "outputs": [],
   "source": [
    "layer.content"
   ]
  },
  {
   "cell_type": "code",
   "execution_count": null,
   "metadata": {},
   "outputs": [],
   "source": [
    "layer.to_json('data_source_layer.json')"
   ]
  },
  {
   "cell_type": "code",
   "execution_count": null,
   "metadata": {},
   "outputs": [],
   "source": [
    "apt1_layer = NavigatorLayer(\n",
    "    name='APT1 Data Source Coverage Map',\n",
    "    description='Shows techniques where the organization has a relevant data source to detect APT1',\n",
    "    hide_disabled=True,\n",
    "    max_value=1)\n",
    "\n",
    "apt1_layer.content['techniques'] = populate_layer_from_spreadsheet(\n",
    "    attack, actor_name='APT1', spreadsheet_fp='APT1 Data Source Coverage Spreadsheet.xlsx')\n",
    "\n",
    "apt1_layer.to_json('APT1_layer.json')"
   ]
  }
 ],
 "metadata": {
  "kernelspec": {
   "display_name": "Python 3",
   "language": "python",
   "name": "python3"
  },
  "language_info": {
   "codemirror_mode": {
    "name": "ipython",
    "version": 3
   },
   "file_extension": ".py",
   "mimetype": "text/x-python",
   "name": "python",
   "nbconvert_exporter": "python",
   "pygments_lexer": "ipython3",
   "version": "3.7.6"
  },
  "varInspector": {
   "cols": {
    "lenName": 16,
    "lenType": 16,
    "lenVar": 40
   },
   "kernels_config": {
    "python": {
     "delete_cmd_postfix": "",
     "delete_cmd_prefix": "del ",
     "library": "var_list.py",
     "varRefreshCmd": "print(var_dic_list())"
    },
    "r": {
     "delete_cmd_postfix": ") ",
     "delete_cmd_prefix": "rm(",
     "library": "var_list.r",
     "varRefreshCmd": "cat(var_dic_list()) "
    }
   },
   "types_to_exclude": [
    "module",
    "function",
    "builtin_function_or_method",
    "instance",
    "_Feature"
   ],
   "window_display": false
  }
 },
 "nbformat": 4,
 "nbformat_minor": 2
}
